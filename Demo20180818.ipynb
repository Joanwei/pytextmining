{
 "cells": [
  {
   "cell_type": "markdown",
   "metadata": {},
   "source": [
    "## Python 基礎"
   ]
  },
  {
   "cell_type": "code",
   "execution_count": 1,
   "metadata": {},
   "outputs": [
    {
     "data": {
      "text/plain": [
       "5"
      ]
     },
     "execution_count": 1,
     "metadata": {},
     "output_type": "execute_result"
    }
   ],
   "source": [
    "a = 3\n",
    "b = 2\n",
    "a + b"
   ]
  },
  {
   "cell_type": "code",
   "execution_count": 2,
   "metadata": {},
   "outputs": [
    {
     "data": {
      "text/plain": [
       "8"
      ]
     },
     "execution_count": 2,
     "metadata": {},
     "output_type": "execute_result"
    }
   ],
   "source": [
    "a + 5"
   ]
  },
  {
   "cell_type": "markdown",
   "metadata": {},
   "source": [
    "## 文字斷詞"
   ]
  },
  {
   "cell_type": "code",
   "execution_count": 3,
   "metadata": {},
   "outputs": [
    {
     "data": {
      "text/plain": [
       "['this', 'is', 'a', 'book']"
      ]
     },
     "execution_count": 3,
     "metadata": {},
     "output_type": "execute_result"
    }
   ],
   "source": [
    "s = 'this is a book'\n",
    "s.split()"
   ]
  },
  {
   "cell_type": "markdown",
   "metadata": {},
   "source": [
    "## 安裝 Jieba"
   ]
  },
  {
   "cell_type": "code",
   "execution_count": 4,
   "metadata": {},
   "outputs": [
    {
     "name": "stdout",
     "output_type": "stream",
     "text": [
      "Requirement already satisfied: jieba in /Users/davidchiu/.pyenv/versions/3.6.2/lib/python3.6/site-packages\n",
      "\u001b[33mYou are using pip version 9.0.1, however version 18.0 is available.\n",
      "You should consider upgrading via the 'pip install --upgrade pip' command.\u001b[0m\n"
     ]
    }
   ],
   "source": [
    "! pip install jieba"
   ]
  },
  {
   "cell_type": "code",
   "execution_count": 6,
   "metadata": {},
   "outputs": [
    {
     "name": "stderr",
     "output_type": "stream",
     "text": [
      "Building prefix dict from the default dictionary ...\n",
      "Dumping model to file cache /var/folders/46/b7dzk4mn6g54qzptv608w7d00000gn/T/jieba.cache\n",
      "Loading model cost 1.005 seconds.\n",
      "Prefix dict has been built succesfully.\n"
     ]
    },
    {
     "data": {
      "text/plain": [
       "['那酸民婉君', '也', '可以', '報名', '嗎', '?']"
      ]
     },
     "execution_count": 6,
     "metadata": {},
     "output_type": "execute_result"
    }
   ],
   "source": [
    "import jieba\n",
    "s = '那酸民婉君也可以報名嗎?'\n",
    "list(jieba.cut(s))"
   ]
  },
  {
   "cell_type": "code",
   "execution_count": 7,
   "metadata": {},
   "outputs": [
    {
     "data": {
      "text/plain": [
       "['\\n一名網友在臉書社團「爆料公社」分享影片並發文「誇張的用路人！完全把馬路當自家用',\n",
       " '任性的一家。」',\n",
       " '影片中',\n",
       " '一輛轎車不顧後方車輛',\n",
       " '竟大喇喇地停在路口斑馬線前的槽化線',\n",
       " '讓一家4人慢條斯理上車',\n",
       " '途中還一直換位子',\n",
       " '搞了1分多鐘後',\n",
       " '駕駛才無奈按喇叭',\n",
       " '對方才離去。這一家人誇張的行徑也引來其他網友批評。\\n']"
      ]
     },
     "execution_count": 7,
     "metadata": {},
     "output_type": "execute_result"
    }
   ],
   "source": [
    "s= '''\n",
    "一名網友在臉書社團「爆料公社」分享影片並發文「誇張的用路人！完全把馬路當自家用，任性的一家。」，影片中，一輛轎車不顧後方車輛，竟大喇喇地停在路口斑馬線前的槽化線，讓一家4人慢條斯理上車，途中還一直換位子，搞了1分多鐘後，駕駛才無奈按喇叭，對方才離去。這一家人誇張的行徑也引來其他網友批評。\n",
    "'''\n",
    "s.split('，')"
   ]
  },
  {
   "cell_type": "code",
   "execution_count": 12,
   "metadata": {},
   "outputs": [
    {
     "data": {
      "text/plain": [
       "['\\n一名網友在臉書社團',\n",
       " '爆料公社',\n",
       " '分享影片並發文',\n",
       " '誇張的用路人',\n",
       " '完全把馬路當自家用',\n",
       " '任性的一家',\n",
       " '',\n",
       " '',\n",
       " '影片中',\n",
       " '一輛轎車不顧後方車輛',\n",
       " '竟大喇喇地停在路口斑馬線前的槽化線',\n",
       " '讓一家4人慢條斯理上車',\n",
       " '途中還一直換位子',\n",
       " '搞了1分多鐘後',\n",
       " '駕駛才無奈按喇叭',\n",
       " '對方才離去',\n",
       " '這一家人誇張的行徑也引來其他網友批評',\n",
       " '\\n']"
      ]
     },
     "execution_count": 12,
     "metadata": {},
     "output_type": "execute_result"
    }
   ],
   "source": [
    "import re\n",
    "re.split('，|。|！|「|」', s)"
   ]
  },
  {
   "cell_type": "code",
   "execution_count": 2,
   "metadata": {},
   "outputs": [],
   "source": [
    "import jieba\n",
    "\n",
    "?jieba.cut"
   ]
  },
  {
   "cell_type": "code",
   "execution_count": 16,
   "metadata": {},
   "outputs": [
    {
     "data": {
      "text/plain": [
       "<generator object Tokenizer.cut at 0x113ec5a98>"
      ]
     },
     "execution_count": 16,
     "metadata": {},
     "output_type": "execute_result"
    }
   ],
   "source": [
    "seg_list = jieba.cut(\"大巨蛋案對市府同仁下封口令? 柯P否認\", cut_all=True)\n",
    "seg_list"
   ]
  },
  {
   "cell_type": "code",
   "execution_count": 17,
   "metadata": {},
   "outputs": [
    {
     "name": "stdout",
     "output_type": "stream",
     "text": [
      "Full Mode: 大/ 巨蛋/ 案/ 對/ 市府/ 同仁/ 下/ 封口/ 封口令/ 口令/ / / / 柯/ P/ 否/ 認\n"
     ]
    }
   ],
   "source": [
    "#for w in seg_list:\n",
    "#    print(w)\n",
    "print(\"Full Mode:\", \"/ \".join(seg_list))"
   ]
  },
  {
   "cell_type": "code",
   "execution_count": 3,
   "metadata": {},
   "outputs": [
    {
     "name": "stderr",
     "output_type": "stream",
     "text": [
      "Building prefix dict from the default dictionary ...\n",
      "Loading model from cache /var/folders/46/b7dzk4mn6g54qzptv608w7d00000gn/T/jieba.cache\n",
      "Loading model cost 0.815 seconds.\n",
      "Prefix dict has been built succesfully.\n"
     ]
    },
    {
     "name": "stdout",
     "output_type": "stream",
     "text": [
      "Default Mode: 大/巨蛋/案對/市府/同仁/下/封口令/?/ /柯/P/否認\n"
     ]
    }
   ],
   "source": [
    "seg_list = jieba.cut(\"大巨蛋案對市府同仁下封口令? 柯P否認\")\n",
    "print(\"Default Mode:\", \"/\".join(seg_list))"
   ]
  },
  {
   "cell_type": "code",
   "execution_count": 20,
   "metadata": {},
   "outputs": [
    {
     "name": "stdout",
     "output_type": "stream",
     "text": [
      "Default Mode: 大巨蛋/案對/市府/同仁/下/封口令/?/ /柯/P/否認\n"
     ]
    }
   ],
   "source": [
    "jieba.add_word('大巨蛋') # 並非永久性的\n",
    "seg_list = jieba.cut(\"大巨蛋案對市府同仁下封口令? 柯P否認\")\n",
    "print(\"Default Mode:\", \"/\".join(seg_list))"
   ]
  },
  {
   "cell_type": "code",
   "execution_count": 12,
   "metadata": {},
   "outputs": [
    {
     "name": "stdout",
     "output_type": "stream",
     "text": [
      "Default Mode: 大巨蛋/案對/市府/同仁/下/封口令/?/ /柯P/否認\n"
     ]
    }
   ],
   "source": [
    "jieba.load_userdict('userdict.txt')\n",
    "seg_list = jieba.cut(\"大巨蛋案對市府同仁下封口令? 柯P否認\")\n",
    "print(\"Default Mode:\", \"/\".join(seg_list))"
   ]
  },
  {
   "cell_type": "code",
   "execution_count": 13,
   "metadata": {},
   "outputs": [
    {
     "name": "stdout",
     "output_type": "stream",
     "text": [
      "大巨蛋 n\n",
      "案 ng\n",
      "對 p\n",
      "市府 n\n",
      "同仁 nr\n",
      "下 f\n",
      "封口令 n\n",
      "? x\n",
      "  x\n",
      "柯P nr\n",
      "否認 v\n"
     ]
    }
   ],
   "source": [
    "import jieba.posseg as pseg\n",
    "words = pseg.cut(\"大巨蛋案對市府同仁下封口令? 柯P否認\")\n",
    "for w in words:\n",
    "    print(w.word, w.flag)"
   ]
  },
  {
   "cell_type": "code",
   "execution_count": 15,
   "metadata": {},
   "outputs": [
    {
     "name": "stdout",
     "output_type": "stream",
     "text": [
      "大巨蛋 0 3\n",
      "案對 3 5\n",
      "市府 5 7\n",
      "同仁 7 9\n",
      "下 9 10\n",
      "封口令 10 13\n",
      "? 13 14\n",
      "  14 15\n",
      "柯P 15 17\n",
      "否認 17 19\n"
     ]
    }
   ],
   "source": [
    "s = \"大巨蛋案對市府同仁下封口令? 柯P否認\"\n",
    "words = jieba.tokenize(s)\n",
    "for tw in words: \n",
    "    print(tw[0], tw[1], tw[2])  "
   ]
  },
  {
   "cell_type": "markdown",
   "metadata": {},
   "source": [
    "## 結巴(jieba)斷詞台灣繁體版本\n",
    "- https://github.com/ldkrsi/jieba-zh_TW"
   ]
  },
  {
   "cell_type": "markdown",
   "metadata": {},
   "source": [
    "## 抓取維基百科 (同義詞)"
   ]
  },
  {
   "cell_type": "code",
   "execution_count": 27,
   "metadata": {},
   "outputs": [
    {
     "data": {
      "text/plain": [
       "[<b>柯文哲</b>, <b>柯P</b>, <b>KP</b>]"
      ]
     },
     "execution_count": 27,
     "metadata": {},
     "output_type": "execute_result"
    }
   ],
   "source": [
    "import requests\n",
    "res = requests.get('https://zh.wikipedia.org/wiki/{}'.format('柯文哲'))\n",
    "\n",
    "from bs4 import BeautifulSoup\n",
    "soup = BeautifulSoup(res.text, 'lxml')\n",
    "soup.select('#mw-content-text p')[2].select('b')"
   ]
  },
  {
   "cell_type": "markdown",
   "metadata": {},
   "source": [
    "## 抓取新聞關鍵詞"
   ]
  },
  {
   "cell_type": "code",
   "execution_count": 32,
   "metadata": {},
   "outputs": [
    {
     "data": {
      "text/plain": [
       "['ATM提款機', '當機']"
      ]
     },
     "execution_count": 32,
     "metadata": {},
     "output_type": "execute_result"
    }
   ],
   "source": [
    "import requests\n",
    "res = requests.get('http://ec.ltn.com.tw/article/breakingnews/2523202')\n",
    "from bs4 import BeautifulSoup\n",
    "soup = BeautifulSoup(res.text, 'lxml')\n",
    "[ele.text.strip()for ele in soup.select('.keyword a')]"
   ]
  },
  {
   "cell_type": "markdown",
   "metadata": {},
   "source": [
    "## 利用斷詞結果分析演講文"
   ]
  },
  {
   "cell_type": "code",
   "execution_count": 33,
   "metadata": {},
   "outputs": [],
   "source": [
    "speech = '''\n",
    "賈伯斯校園演講文: 把每天都當成最後一天來過\n",
    " \n",
    "我只想說三個故事，就這樣。\n",
    "第一個故事跟小事情所帶來的影響有關。\n",
    "我進入李德大學六個月後就休學了，然後在真正離開學校之前旁聽了一年半的時間。我為什麼要休學？\n",
    "我在十七歲時天真的選擇了和史丹佛學費一樣昂貴的李德大學。我的父母都是勞工階級，他們省下來的錢都拿來付我的學費。\n",
    "六個月之後，我看不出上大學的意義何在。我不知道自己想做什麼，也不認為大學可以幫助我想清楚這件事，而我卻在這花光父母畢生的積蓄。因此，我決定休學，並且相信一切都不會有問題。當時我的確很提心吊膽，但現在回過頭看，這是我做過最好的決定之一。\n",
    "這並不是浪漫的事，我沒有宿舍可住，必須拿可樂瓶子去退才有錢買飯吃，每個禮拜天晚上還得走上七英哩的路到城外的一家教堂，才能吃上一頓好的。然而，當時我跟著好奇心與直覺前進所帶來的挫敗，事後卻成了無價之寶。\n",
    "舉例來說，當時李德大學有著全國最好的書法教育，到處都看得到優美的手寫書法字跡，於是我決定去旁聽書法課。\n",
    "這門課對我的現實生活似乎起不了什麼作用，然而，十年後，當我們設計第一台麥金塔電腦時，所有的記憶都回來了。我們把那些概念都設計進來，推出了第一台擁有美麗印刷（字型）格式的電腦。\n",
    "如果我當年沒有休學，就不可能去旁聽書法課，個人電腦也許就不會有今天這麼棒的印刷格式了。當然，我在大學時根本想不到這些事會有關聯。\n",
    "你不可能有先見之明，只能有後見之明，因此，你必須相信，這些小事一定會和你的未來產生關聯。你必須相信－－你的勇氣、天意、生命、命運等等。\n",
    "愛與失敗的故事\n",
    "第二個故事跟愛與失敗有關。\n",
    "我很幸運－－很早就發現自己喜歡的事。我二十歲時在父母的車庫裡和伍茲合創蘋果公司，十年內從兩個成員成長為擁有四千位員工、年營收二十億美元的公司。然而，我在三十歲時卻被解雇了。\n",
    "當時，我們聘請了一位極有才華的經理人和我共同經營公司，後來，我們對未來的願景出現分歧，最後開始爭執，而董事會站在他那邊，於是我就被解雇了。我畢生的重心都失去了，感覺非常痛苦。\n",
    "前幾個月，我真的不知道該做什麼。我的失敗眾所週知，我甚至想離開矽谷。然而，在我心中，有件事愈來愈清楚──我仍然喜愛我的工作，完全沒有因為蘋果公司的事件而改變，於是我決定從頭開始。\n",
    "想要成功的壓力被新手的快活給取代了，我釋放了自己，進入生命中最有創造力的一段時期。\n",
    "接下來五年，我創辦了皮克斯（Pixar）公司，製作了全球第一部電腦動畫影片「玩具總動員」，現在已是全球最成功的動畫製作公司。\n",
    "我相信如果我沒有被蘋果公司解雇，這一切都不會發生。良藥苦口，生命有時會給你迎頭痛擊，但不要失去信念。支持我繼續走下去的唯一理由就是我深愛我的工作，你必須找出你的所愛。你的工作佔據了生活大部份的時間，因此，唯有相信自己做的是偉大的工作，才能真正獲得成就感。\n",
    "如果你還沒找到，繼續找。\n",
    "第三個故事跟死亡有關。\n",
    "我十七歲時曾讀過一句話：「如果你把每天都當成最後一天來過，總有一天你會證明自己是對的。」這句話對我影響甚深。過去三十三年來，我每天早上會對著鏡子說：「如果今天是我生命中的最後一天，我還會想做今天要做的事嗎？」\n",
    "每當遇到生命中的重大抉擇時，只要想到我將不久於人世，便可以幫助我做出決定。因為，當你面對死亡時，幾乎每件事──所有外界的期待、所有的傲慢、所有對難堪或失敗的害怕──都會消失，只留下真正重要的東西。記住，你即將不久於人世，這是我所知道，讓你不會陷入害怕失去的泥沼裡的最好方法。你已經一無所有了，沒有理由不傾聽內心真正的聲音。\n",
    "你的時間有限，因此，不要把它浪費在為別人而活。最重要的是，你要有勇氣傾聽你的真心與直覺，它們其實早已知道你真正想要的是什麼，其他都是次要的。\n",
    "蘋果傳奇：賈伯斯除了創造出蘋果產品，他也常常到處演講，勉勵學生、勉勵上班族，利用他的字語無形力量改變這世界。\n",
    "\n",
    "1.「求知若飢，虛心若愚。」（Stay hungry. Stay foolish.）\n",
    "56歲的蘋果執行長賈伯斯（Steve Jobs）在2005年美國史丹佛大學畢業典禮上，送給畢業生的勸告是：「求知若飢，虛心若愚。」（Stay hungry. Stay foolish.）這求知與虛心的對象，與其說是白紙黑字，倒不如說是每天遇見的各種面孔；學會「讀」人，每張臉都是好書的封面。當然，惡魔也就跟著變成金礦了。他勉勵學生帶著傻氣勇往直前，學習任何有趣的事物。\n",
    "2.「如果每個人都要去舊金山，那麼，花許多時間爭執走哪條路並不是問題。但如果有人要去舊金山，有人要去聖地牙哥，這樣的爭執就很浪費時間了。」\n",
    "賈伯斯指出合作的關鍵在於擁有共同目標。但當缺乏共同目標時，容易變得心胸狹窄，彼此誤解並互相指責。因此，盡量去創造一個橫跨各部門的共同目標，然後一起努力，就算有爭執也沒關係。\n",
    "3.時間有限，不要浪費時間活在別人的陰影裡；不要被教條所惑，盲從教條等於活在別人的思考中；不要讓他人的噪音壓過自己的心聲。\n",
    "不要讓別人的意見淹沒了你內在的心聲。最重要的，擁有追隨自己內心與直覺的勇氣，你的內心與直覺多少已經知道你真正想要成為什麼樣的人，任何其他事物都是次要的。賈伯斯從不妥協，生命短暫，不應浪費時間活在別人的陰影裡。他也從來不被教條所困惑，盲從教條等於活在別人的思考中；不要讓他人的噪音壓過自己的心聲。最重要的，有勇氣跟著自己的內心與直覺。\n",
    "4. 蘋果公司開除我，是我人生中最好的經驗。從頭開始的輕鬆釋放了成功的沉重，讓我進入了這輩子最有創意的時代。\n",
    "\n",
    "特立獨行的蘋果創辦人兼執行長賈伯斯（Steve Jobs），在給史丹佛畢業生的演講中語出驚人：「（1985年）蘋果公司開除我，是我人生中最好的經驗。從頭開始的輕鬆釋放了成功的沉重，讓我進入了這輩子最有創意的時代。」過去賈伯斯總能敗部復活東山再起，重要的就是他在敗部出局時，抓住機會認真的面對自己內心對於熱情的追尋。因此，他把落入敗部視為生命中的苦口良藥和尋找「真愛」的試煉。愈深的挫折反而讓他更看清真相，激起熱情堅持真愛。\n",
    "5. 我有很棒的經驗，充沛的活力，再加上一點『夢想』，而且我不怕從頭開始。\n",
    "賈伯斯在蘋果公司的網站上這樣介紹自己。當對日常生活失去熱情時，要勇敢的放棄框架。賈伯斯相信必須鎖定正確的目標，把熱情投注在最愛，自然就會有回報：「我根本不在乎市場佔有率。我所關心的是怎麼製造出世界上最好的微電腦，只要能夠達成這個目標，我們市場佔有率自然能夠提升。」\n",
    "　\n",
    "6. 創新＝借用與連結\n",
    "\n",
    "賈伯斯總愛引用畫家畢卡索（Picasso）的名言：「好的藝術家懂複製，偉大的藝術家則擅偷取。」他從不認為借用別人的點子是件可恥的事。賈伯斯給的兩個創新關鍵字是「借用」與「連結」。但前提是，你得先知道別人做了什麼。\n",
    "7. 「決不、決不、決不、決不放棄！」（Never, never, never, never give up.）\n",
    "\n",
    "賈伯斯最喜歡引用的另個英雄邱吉爾說的，「決不、決不、決不、決不放棄！」（Never, never, never, never give up.）無論他人生中遇到任何挫折，休學或失業，他總是決不放棄，堅持下去。\n",
    "8. 你不可能有先見之明，只能有後見之明，因此，你必須相信，這些小事一定會和你的未來產生關聯。\n",
    "你沒辦法預見這些點滴如何聯繫，唯有透過回顧，可以看出彼此關聯。所以你必須相信，無論如何，這些點滴會在未來互相連結，有些東西你必須相信，像你的直覺、天命、人生、因果，諸如此類種種。\n",
    "9. 如果你把每天都當成最後一天來過，總有一天你會證明自己是對的。\n",
    "賈伯斯十七歲時曾讀過一句話：「如果你把每天都當成最後一天來過，總有一天你會證明自己是對的。」這句話對他影響甚深。過去三十三年來，他每天早上會對著鏡子說：「如果今天是我生命中的最後一天，我還會想做今天要做的事嗎？」每當遇到生命中的重大抉擇時，只要想到將不久於人世，便可以幫助你做出決定。\n",
    "\n",
    "10.你必須要找到你所愛的東西。(You’ve got to find what you love,)\n",
    "賈伯斯相信如果他沒有被蘋果公司解雇，這一切都不會發生。良藥苦口，生命有時會給你迎頭痛擊，但不要失去信念。支持他繼續走下去的唯一理由就是他深愛他的工作，而你也必須找出你的所愛。你的工作佔據了生活大部份的時間，因此，唯有相信自己做的是偉大的工作，才能真正獲得成就感。如果你還沒找到，繼續找。\n",
    "\n",
    "'''"
   ]
  },
  {
   "cell_type": "code",
   "execution_count": 34,
   "metadata": {},
   "outputs": [],
   "source": [
    "import jieba \n",
    "words = list(jieba.cut(speech))"
   ]
  },
  {
   "cell_type": "markdown",
   "metadata": {},
   "source": [
    "### Counter\n",
    "- https://docs.python.org/3/library/collections.html"
   ]
  },
  {
   "cell_type": "code",
   "execution_count": 42,
   "metadata": {},
   "outputs": [
    {
     "data": {
      "text/plain": [
       "[('b', 3)]"
      ]
     },
     "execution_count": 42,
     "metadata": {},
     "output_type": "execute_result"
    }
   ],
   "source": [
    "from collections import Counter\n",
    "a = ['a', 'b', 'c', 'a', 'c', 'b', 'b']\n",
    "c = Counter(a)\n",
    "c.most_common(1)"
   ]
  },
  {
   "cell_type": "code",
   "execution_count": 36,
   "metadata": {},
   "outputs": [],
   "source": [
    "from collections import Counter\n",
    "c = Counter(words)"
   ]
  },
  {
   "cell_type": "code",
   "execution_count": 39,
   "metadata": {},
   "outputs": [
    {
     "name": "stdout",
     "output_type": "stream",
     "text": [
      "自己 14\n",
      "如果 12\n",
      "賈伯斯 12\n",
      "相信 11\n",
      "公司 11\n",
      "必須 10\n",
      "生命 10\n",
      "蘋果 10\n",
      "一天 9\n",
      "時間 9\n",
      "因此 8\n",
      "不要 8\n",
      "別人 8\n",
      "每天 7\n",
      "真正 7\n",
      "工作 7\n",
      "什麼 6\n",
      "知道 6\n",
      "決定 6\n",
      "最好 6\n",
      "直覺 6\n",
      "決不 6\n",
      "never 6\n",
      "故事 5\n",
      "休學 5\n",
      "不會 5\n",
      "所有 5\n",
      "今天 5\n",
      "這些 5\n",
      "失去 5\n",
      "重要 5\n",
      "內心 5\n",
      "目標 5\n",
      "當成 4\n",
      "來過 4\n",
      "進入 4\n",
      "可以 4\n",
      "當時 4\n",
      "然而 4\n",
      "電腦 4\n",
      "我們 4\n",
      "擁有 4\n",
      "關聯 4\n",
      "之明 4\n",
      "未來 4\n"
     ]
    }
   ],
   "source": [
    "for word,cnt in  c.most_common(100):\n",
    "    if len(word) >= 2:\n",
    "        print(word, cnt)"
   ]
  },
  {
   "cell_type": "code",
   "execution_count": null,
   "metadata": {},
   "outputs": [],
   "source": []
  }
 ],
 "metadata": {
  "kernelspec": {
   "display_name": "Python 3",
   "language": "python",
   "name": "python3"
  },
  "language_info": {
   "codemirror_mode": {
    "name": "ipython",
    "version": 3
   },
   "file_extension": ".py",
   "mimetype": "text/x-python",
   "name": "python",
   "nbconvert_exporter": "python",
   "pygments_lexer": "ipython3",
   "version": "3.6.2"
  }
 },
 "nbformat": 4,
 "nbformat_minor": 2
}
