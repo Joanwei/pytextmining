{
 "cells": [
  {
   "cell_type": "markdown",
   "metadata": {},
   "source": [
    "## Python 基礎"
   ]
  },
  {
   "cell_type": "code",
   "execution_count": 1,
   "metadata": {},
   "outputs": [
    {
     "data": {
      "text/plain": [
       "5"
      ]
     },
     "execution_count": 1,
     "metadata": {},
     "output_type": "execute_result"
    }
   ],
   "source": [
    "a = 3\n",
    "b = 2\n",
    "a + b"
   ]
  },
  {
   "cell_type": "code",
   "execution_count": 2,
   "metadata": {},
   "outputs": [
    {
     "data": {
      "text/plain": [
       "8"
      ]
     },
     "execution_count": 2,
     "metadata": {},
     "output_type": "execute_result"
    }
   ],
   "source": [
    "a + 5"
   ]
  },
  {
   "cell_type": "markdown",
   "metadata": {},
   "source": [
    "## 文字斷詞"
   ]
  },
  {
   "cell_type": "code",
   "execution_count": 3,
   "metadata": {},
   "outputs": [
    {
     "data": {
      "text/plain": [
       "['this', 'is', 'a', 'book']"
      ]
     },
     "execution_count": 3,
     "metadata": {},
     "output_type": "execute_result"
    }
   ],
   "source": [
    "s = 'this is a book'\n",
    "s.split()"
   ]
  },
  {
   "cell_type": "markdown",
   "metadata": {},
   "source": [
    "## 安裝 Jieba"
   ]
  },
  {
   "cell_type": "code",
   "execution_count": 4,
   "metadata": {},
   "outputs": [
    {
     "name": "stdout",
     "output_type": "stream",
     "text": [
      "Requirement already satisfied: jieba in /Users/davidchiu/.pyenv/versions/3.6.2/lib/python3.6/site-packages\n",
      "\u001b[33mYou are using pip version 9.0.1, however version 18.0 is available.\n",
      "You should consider upgrading via the 'pip install --upgrade pip' command.\u001b[0m\n"
     ]
    }
   ],
   "source": [
    "! pip install jieba"
   ]
  },
  {
   "cell_type": "code",
   "execution_count": 6,
   "metadata": {},
   "outputs": [
    {
     "name": "stderr",
     "output_type": "stream",
     "text": [
      "Building prefix dict from the default dictionary ...\n",
      "Dumping model to file cache /var/folders/46/b7dzk4mn6g54qzptv608w7d00000gn/T/jieba.cache\n",
      "Loading model cost 1.005 seconds.\n",
      "Prefix dict has been built succesfully.\n"
     ]
    },
    {
     "data": {
      "text/plain": [
       "['那酸民婉君', '也', '可以', '報名', '嗎', '?']"
      ]
     },
     "execution_count": 6,
     "metadata": {},
     "output_type": "execute_result"
    }
   ],
   "source": [
    "import jieba\n",
    "s = '那酸民婉君也可以報名嗎?'\n",
    "list(jieba.cut(s))"
   ]
  },
  {
   "cell_type": "code",
   "execution_count": 7,
   "metadata": {},
   "outputs": [
    {
     "data": {
      "text/plain": [
       "['\\n一名網友在臉書社團「爆料公社」分享影片並發文「誇張的用路人！完全把馬路當自家用',\n",
       " '任性的一家。」',\n",
       " '影片中',\n",
       " '一輛轎車不顧後方車輛',\n",
       " '竟大喇喇地停在路口斑馬線前的槽化線',\n",
       " '讓一家4人慢條斯理上車',\n",
       " '途中還一直換位子',\n",
       " '搞了1分多鐘後',\n",
       " '駕駛才無奈按喇叭',\n",
       " '對方才離去。這一家人誇張的行徑也引來其他網友批評。\\n']"
      ]
     },
     "execution_count": 7,
     "metadata": {},
     "output_type": "execute_result"
    }
   ],
   "source": [
    "s= '''\n",
    "一名網友在臉書社團「爆料公社」分享影片並發文「誇張的用路人！完全把馬路當自家用，任性的一家。」，影片中，一輛轎車不顧後方車輛，竟大喇喇地停在路口斑馬線前的槽化線，讓一家4人慢條斯理上車，途中還一直換位子，搞了1分多鐘後，駕駛才無奈按喇叭，對方才離去。這一家人誇張的行徑也引來其他網友批評。\n",
    "'''\n",
    "s.split('，')"
   ]
  },
  {
   "cell_type": "code",
   "execution_count": 12,
   "metadata": {},
   "outputs": [
    {
     "data": {
      "text/plain": [
       "['\\n一名網友在臉書社團',\n",
       " '爆料公社',\n",
       " '分享影片並發文',\n",
       " '誇張的用路人',\n",
       " '完全把馬路當自家用',\n",
       " '任性的一家',\n",
       " '',\n",
       " '',\n",
       " '影片中',\n",
       " '一輛轎車不顧後方車輛',\n",
       " '竟大喇喇地停在路口斑馬線前的槽化線',\n",
       " '讓一家4人慢條斯理上車',\n",
       " '途中還一直換位子',\n",
       " '搞了1分多鐘後',\n",
       " '駕駛才無奈按喇叭',\n",
       " '對方才離去',\n",
       " '這一家人誇張的行徑也引來其他網友批評',\n",
       " '\\n']"
      ]
     },
     "execution_count": 12,
     "metadata": {},
     "output_type": "execute_result"
    }
   ],
   "source": [
    "import re\n",
    "re.split('，|。|！|「|」', s)"
   ]
  },
  {
   "cell_type": "code",
   "execution_count": 2,
   "metadata": {},
   "outputs": [],
   "source": [
    "import jieba\n",
    "\n",
    "?jieba.cut"
   ]
  },
  {
   "cell_type": "code",
   "execution_count": 16,
   "metadata": {},
   "outputs": [
    {
     "data": {
      "text/plain": [
       "<generator object Tokenizer.cut at 0x113ec5a98>"
      ]
     },
     "execution_count": 16,
     "metadata": {},
     "output_type": "execute_result"
    }
   ],
   "source": [
    "seg_list = jieba.cut(\"大巨蛋案對市府同仁下封口令? 柯P否認\", cut_all=True)\n",
    "seg_list"
   ]
  },
  {
   "cell_type": "code",
   "execution_count": 17,
   "metadata": {},
   "outputs": [
    {
     "name": "stdout",
     "output_type": "stream",
     "text": [
      "Full Mode: 大/ 巨蛋/ 案/ 對/ 市府/ 同仁/ 下/ 封口/ 封口令/ 口令/ / / / 柯/ P/ 否/ 認\n"
     ]
    }
   ],
   "source": [
    "#for w in seg_list:\n",
    "#    print(w)\n",
    "print(\"Full Mode:\", \"/ \".join(seg_list))"
   ]
  },
  {
   "cell_type": "code",
   "execution_count": 3,
   "metadata": {},
   "outputs": [
    {
     "name": "stderr",
     "output_type": "stream",
     "text": [
      "Building prefix dict from the default dictionary ...\n",
      "Loading model from cache /var/folders/46/b7dzk4mn6g54qzptv608w7d00000gn/T/jieba.cache\n",
      "Loading model cost 0.815 seconds.\n",
      "Prefix dict has been built succesfully.\n"
     ]
    },
    {
     "name": "stdout",
     "output_type": "stream",
     "text": [
      "Default Mode: 大/巨蛋/案對/市府/同仁/下/封口令/?/ /柯/P/否認\n"
     ]
    }
   ],
   "source": [
    "seg_list = jieba.cut(\"大巨蛋案對市府同仁下封口令? 柯P否認\")\n",
    "print(\"Default Mode:\", \"/\".join(seg_list))"
   ]
  },
  {
   "cell_type": "code",
   "execution_count": 20,
   "metadata": {},
   "outputs": [
    {
     "name": "stdout",
     "output_type": "stream",
     "text": [
      "Default Mode: 大巨蛋/案對/市府/同仁/下/封口令/?/ /柯/P/否認\n"
     ]
    }
   ],
   "source": [
    "jieba.add_word('大巨蛋') # 並非永久性的\n",
    "seg_list = jieba.cut(\"大巨蛋案對市府同仁下封口令? 柯P否認\")\n",
    "print(\"Default Mode:\", \"/\".join(seg_list))"
   ]
  },
  {
   "cell_type": "code",
   "execution_count": 12,
   "metadata": {},
   "outputs": [
    {
     "name": "stdout",
     "output_type": "stream",
     "text": [
      "Default Mode: 大巨蛋/案對/市府/同仁/下/封口令/?/ /柯P/否認\n"
     ]
    }
   ],
   "source": [
    "jieba.load_userdict('userdict.txt')\n",
    "seg_list = jieba.cut(\"大巨蛋案對市府同仁下封口令? 柯P否認\")\n",
    "print(\"Default Mode:\", \"/\".join(seg_list))"
   ]
  },
  {
   "cell_type": "code",
   "execution_count": 13,
   "metadata": {},
   "outputs": [
    {
     "name": "stdout",
     "output_type": "stream",
     "text": [
      "大巨蛋 n\n",
      "案 ng\n",
      "對 p\n",
      "市府 n\n",
      "同仁 nr\n",
      "下 f\n",
      "封口令 n\n",
      "? x\n",
      "  x\n",
      "柯P nr\n",
      "否認 v\n"
     ]
    }
   ],
   "source": [
    "import jieba.posseg as pseg\n",
    "words = pseg.cut(\"大巨蛋案對市府同仁下封口令? 柯P否認\")\n",
    "for w in words:\n",
    "    print(w.word, w.flag)"
   ]
  },
  {
   "cell_type": "code",
   "execution_count": 15,
   "metadata": {},
   "outputs": [
    {
     "name": "stdout",
     "output_type": "stream",
     "text": [
      "大巨蛋 0 3\n",
      "案對 3 5\n",
      "市府 5 7\n",
      "同仁 7 9\n",
      "下 9 10\n",
      "封口令 10 13\n",
      "? 13 14\n",
      "  14 15\n",
      "柯P 15 17\n",
      "否認 17 19\n"
     ]
    }
   ],
   "source": [
    "s = \"大巨蛋案對市府同仁下封口令? 柯P否認\"\n",
    "words = jieba.tokenize(s)\n",
    "for tw in words: \n",
    "    print(tw[0], tw[1], tw[2])  "
   ]
  },
  {
   "cell_type": "markdown",
   "metadata": {},
   "source": [
    "## 結巴(jieba)斷詞台灣繁體版本\n",
    "- https://github.com/ldkrsi/jieba-zh_TW"
   ]
  },
  {
   "cell_type": "markdown",
   "metadata": {},
   "source": [
    "## 抓取維基百科 (同義詞)"
   ]
  },
  {
   "cell_type": "code",
   "execution_count": 27,
   "metadata": {},
   "outputs": [
    {
     "data": {
      "text/plain": [
       "[<b>柯文哲</b>, <b>柯P</b>, <b>KP</b>]"
      ]
     },
     "execution_count": 27,
     "metadata": {},
     "output_type": "execute_result"
    }
   ],
   "source": [
    "import requests\n",
    "res = requests.get('https://zh.wikipedia.org/wiki/{}'.format('柯文哲'))\n",
    "\n",
    "from bs4 import BeautifulSoup\n",
    "soup = BeautifulSoup(res.text, 'lxml')\n",
    "soup.select('#mw-content-text p')[2].select('b')"
   ]
  },
  {
   "cell_type": "markdown",
   "metadata": {},
   "source": [
    "## 抓取新聞關鍵詞"
   ]
  },
  {
   "cell_type": "code",
   "execution_count": 32,
   "metadata": {},
   "outputs": [
    {
     "data": {
      "text/plain": [
       "['ATM提款機', '當機']"
      ]
     },
     "execution_count": 32,
     "metadata": {},
     "output_type": "execute_result"
    }
   ],
   "source": [
    "import requests\n",
    "res = requests.get('http://ec.ltn.com.tw/article/breakingnews/2523202')\n",
    "from bs4 import BeautifulSoup\n",
    "soup = BeautifulSoup(res.text, 'lxml')\n",
    "[ele.text.strip()for ele in soup.select('.keyword a')]"
   ]
  },
  {
   "cell_type": "markdown",
   "metadata": {},
   "source": [
    "## 利用斷詞結果分析演講文"
   ]
  },
  {
   "cell_type": "code",
   "execution_count": 43,
   "metadata": {},
   "outputs": [],
   "source": [
    "speech = '''\n",
    "大會主席蘇嘉全院長，我們現場的貴賓，電視機前面及網路上的全體國人同胞：大家早安!\n",
    " \n",
    "   今天是中華民國一百零五年的國慶。我要特別感謝遠道而來的各國貴賓，還有我們從世界各地回到故鄉台灣的僑胞。謝謝大家，跟我們一起來見證這個莊嚴的國家慶典。\n",
    " \n",
    "   我也要特別謝謝陳金鋒先生，今天他離開了熟悉的棒球場，帶領所有人唱國歌。他是我們全台灣人心目中的英雄。\n",
    " \n",
    "   在國家生日的這一天，我要向這麼多年來，曾經為這個國家奉獻和犧牲的人，致上我最深的敬意。\n",
    " \n",
    "   這個國家曾經走過威權統治、走過族群對立、也曾經走過國家認同的尖銳對立。對於過去，我們心中抱持感念。現在，新政府肩膀上的責任就是要讓這個國家脫胎換骨。\n",
    " \n",
    "   在520就職演講中，我提到「改變年輕人的處境，就是改變國家的處境」。過去幾個月來，我們所啟動的改革，每一項都是圍繞著這個主軸在前進。\n",
    " \n",
    "   年輕人憂慮房價太高、負擔太沉重，我們便著手辦理社會住宅。四年之內我們會辦理八萬戶，預計八年辦理二十萬戶。台灣會跟許多先進國家一樣，變成一個社會住宅普及的國家。\n",
    " \n",
    "   年輕人要衝刺事業，政府要讓他們沒有後顧之憂。家中的長輩需要有人照顧，我們著手推動長照制度。家中的小朋友需要照顧，我們著手推動托育計畫。\n",
    " \n",
    "   我們的年金制度可能破產，我們用最嚴肅的態度來處理這個問題。在年金改革之後，年輕人的負擔會相對減少，年輕人也不用擔心繳交的費用，到老付諸流水，而且這個國家將公平地保障每一個國民退休之後，有尊嚴的生活。\n",
    " \n",
    "   同樣的道理，我們推動轉型正義。新政府要給予台灣的民主政治一個嶄新的開始，給年輕人一個健康多元的民主政治，這就是推動轉型正義的真諦。\n",
    " \n",
    "   除了這些正在推動的政策之外，我們也正在推動經濟產業的振興。我們提出以創新研發為動能的「5+2」產業發展計畫。在前一段期間，這些計畫以及相關法規修正配套，也已經一一啟動。我們的目標很清楚，我們要為年輕人創造好的工作機會，提高他們的薪水。\n",
    " \n",
    "   產業轉型是振興這個國家經濟的根本之道，我們會堅定地往這條路邁進。但是這是一條漫長的路，不過，我們有決心，突破各種困難。政府已經提出擴大投資方案，從改善投資環境、激發民間投資、加強公營事業投資、以及強化創新等等，多管齊下，致力扭轉低迷多年的經濟。\n",
    " \n",
    "   我們的努力已有初步成效，上星期，我們在台北舉行的全球招商大會。外資來台的投資意向金額，已經創下近年新高。外資重燃對台灣的信心，是因為我們有堅定的決心及改革的勇氣。台灣經濟的振興及產業的轉型，關鍵就在我們自己。\n",
    " \n",
    "   各位親愛的國人同胞，改革的路上一定會有波折。不過，我誠懇呼籲全體國人，不要因為這些波折而對台灣失去希望。\n",
    " \n",
    "   這是有史以來第一次，這個國家的所有人，可以一起好好坐下來思考：我們到底要留下一個什麼樣的國家給年輕人？不要讓這個機會從我們手上溜走，決定權就在我們這一代人的手上。\n",
    " \n",
    "   新政府的藍圖很清楚，我們過去幾個月的作為，就是讓這個國家脫離原地踏步的狀態。產業轉型帶領台灣的經濟發展，社會安全網確保國民的安全，年金改革確保國家的財政與人民的退休生活，轉型正義要讓民主重新出發。同時，我們司法改革的準備工作也正在緊鑼密鼓進行中，一旦司法人事到位之後，改革就會加速進行。\n",
    " \n",
    "   我們堅持帶領國家往前走，方向已經確定，我們將會在這個方向上繼續前進，絕不退縮。\n",
    " \n",
    "   台灣人民嚮往和平、追求民主、希望走出去，希望對國際社會做出貢獻。\n",
    " \n",
    "   新政府上任之後，秉持「踏實外交、互惠互助」的原則，我走訪了巴拉圭和巴拿馬兩個邦交國。會晤了巴拿馬、巴拉圭、多明尼加、宏都拉斯、貝里斯、薩爾瓦多、瓜地馬拉等國的元首或副元首。我們的副總統陳建仁先生則走訪了多明尼加及教廷。我們希望，外交不是單方面的投入，而是跟友邦攜手規劃互惠的合作計畫，讓雙方共蒙其利。\n",
    " \n",
    "   我們積極地走向世界，即使參與國際組織的路不好走，但我們還是會堅定地走下去。台灣從來沒有在重要的全球性議題上缺席，即使受到壓力，我們依然跟所有主要的民主國家一起努力，希望對人類做出有意義的貢獻。\n",
    " \n",
    "   在過去幾個月，我們和友邦進行多場跨國活動，包括疾病防治、能源效率、婦女賦權，以及為縮短區域數位落差所舉辦的電子商務訓練，以實際行動為區域發展做出貢獻。也在這段時間內，我們和不同國家積極討論災害防救、海上搜救以及各種海事合作議題，建構區域合作的能量。台灣能為國際社會做出貢獻，是台灣人民值得驕傲的成就。\n",
    " \n",
    "   新政府跟美國、日本，以及歐洲等民主國家的關係，在520之後，都有實質的成長。這些國家對於台灣的國際參與議題，支持的力道也超過以往。在這裡，我要代表國家向這些國際上的好朋友，致上台灣人的誠摯感謝。\n",
    " \n",
    "   同時，為重新定位台灣在亞太地區的角色，並尋找新的成長動能，我們積極推動新南向政策，並已擬定政策綱領及推動計畫。未來將在經貿、科技、教育、文化、觀光等方面，和東南亞、南亞、澳大利亞及紐西蘭等國家，加強互惠互助的合作關係，並透過廣泛的協商對話機制，建立合作共識，減少障礙。\n",
    " \n",
    "   我們和中國大陸在區域發展中扮演不同的角色。台灣將充分利用在人才培育、農業發展、科技創新、醫療、中小企業等領域的經驗及優勢，為區域發展做出積極貢獻。我們也願意在區域基礎建設及多邊經貿合作方面，和對岸進行協商，攜手合作，共同樹立歷史的里程碑。\n",
    " \n",
    "   對於兩岸關係，我要再次重申，建立具一致性、可預測、且可持續的兩岸關係，維持台灣民主以及台海和平的現狀，是新政府堅定不移的立場。\n",
    " \n",
    "   「維持現狀」是我對選民的承諾。在520就職演說中，我的每一句話都未曾改變：新政府會依據中華民國憲法、兩岸人民關係條例以及其他相關法律，處理兩岸事務。我們也會盡最大努力來維持兩岸間的對話與溝通機制，我們會尊重1992年兩岸兩會會談的歷史事實，也主張兩岸應該共同珍惜與維護1992年之後、20多年來雙方交流、協商所累積形成的現狀與成果，並在既有政治基礎上，持續推動兩岸關係和平穩定發展。我也呼籲，兩岸的兩個執政黨應該放下歷史包袱，展開良性對話，造福兩岸人民。\n",
    " \n",
    "   雖然過去幾個月，兩岸關係有些起伏，但我們的立場仍然一致而堅定。我們的承諾不會改變，我們的善意不會改變，我們也不會在壓力下屈服，更不會走回對抗的老路。這是我們對「維持現狀」的基本態度，也是基於對兩岸和平的共同願望。\n",
    " \n",
    "   我要強調，「維持現狀」更積極的意義，是在深化民主機制的基礎上，以更前瞻積極的作為，推動兩岸建設性的交流與對話，進而建構可長可久的兩岸和平穩定關係。\n",
    " \n",
    "   我要呼籲中國大陸當局，正視中華民國存在的事實，正視台灣人民對於民主制度的堅信。兩岸之間應該要盡快坐下來談，只要有利於兩岸和平發展，有利於兩岸人民福祉，什麼都可以談。兩岸領導人應共同展現智慧和彈性，冷靜的態度，一起把兩岸現存的分歧帶向雙贏的未來。\n",
    " \n",
    "   從520到現在，過了一百多天，許多的工作，都逐步展開。我要在這裡特別感謝林全院長所領導的行政團隊。改革沒有捷徑，走捷徑的改革通常不是真改革。為了讓國家真正脫胎換骨，新政府選擇一步一腳印，務實前進。有錯就改，對的事情，就堅持到底，不必憂讒畏譏。我想，這才是台灣人民期待的政府。\n",
    " \n",
    "   今年六月，我拜訪巴拉圭的時候，卡提斯總統告訴我：「你的國家比你想像的更大」。在今天演講的最後，我就用這句話獻給我們全體國人。我的任務，就是要讓人民相信，這個國家將因改革而偉大。\n",
    " \n",
    "   謝謝大家。祝我們的國家國運昌隆、一切順利。\n",
    "'''"
   ]
  },
  {
   "cell_type": "code",
   "execution_count": 48,
   "metadata": {},
   "outputs": [],
   "source": [
    "import jieba\n",
    "jieba.load_userdict('userdict.txt')\n",
    "words = list(jieba.cut(speech))"
   ]
  },
  {
   "cell_type": "markdown",
   "metadata": {},
   "source": [
    "### Counter\n",
    "- https://docs.python.org/3/library/collections.html"
   ]
  },
  {
   "cell_type": "code",
   "execution_count": 49,
   "metadata": {},
   "outputs": [
    {
     "data": {
      "text/plain": [
       "[('b', 3)]"
      ]
     },
     "execution_count": 49,
     "metadata": {},
     "output_type": "execute_result"
    }
   ],
   "source": [
    "from collections import Counter\n",
    "a = ['a', 'b', 'c', 'a', 'c', 'b', 'b']\n",
    "c = Counter(a)\n",
    "c.most_common(1)"
   ]
  },
  {
   "cell_type": "code",
   "execution_count": 50,
   "metadata": {},
   "outputs": [],
   "source": [
    "from collections import Counter\n",
    "c = Counter(words)"
   ]
  },
  {
   "cell_type": "code",
   "execution_count": 51,
   "metadata": {},
   "outputs": [
    {
     "name": "stdout",
     "output_type": "stream",
     "text": [
      "我們 49\n",
      "國家 16\n",
      "台灣 14\n",
      "兩岸 14\n",
      "這個 13\n",
      "改革 11\n",
      "民主 9\n",
      "人民 9\n",
      "新政府 8\n",
      "年輕人 8\n",
      "推動 8\n",
      "發展 8\n",
      "我要 7\n",
      "以及 7\n",
      "合作 7\n",
      "轉型 6\n",
      "和平 6\n",
      "過去 5\n",
      "就是 5\n",
      "改變 5\n",
      "社會 5\n",
      "計畫 5\n",
      "這些 5\n",
      "堅定 5\n",
      "投資 5\n",
      "希望 5\n",
      "做出 5\n",
      "貢獻 5\n",
      "積極 5\n",
      "現狀 5\n",
      "國人 4\n",
      "一起 4\n",
      "520 4\n",
      "幾個 4\n",
      "一個 4\n",
      "產業 4\n",
      "已經 4\n",
      "經濟 4\n",
      "進行 4\n",
      "國際 4\n",
      "區域 4\n",
      "共同 4\n",
      "兩岸關 4\n",
      "維持 4\n",
      "全體 3\n",
      "大家 3\n",
      "今天 3\n",
      "中華民國 3\n",
      "特別 3\n",
      "謝謝 3\n",
      "多年 3\n",
      "前進 3\n",
      "辦理 3\n",
      "政府 3\n",
      "制度 3\n"
     ]
    }
   ],
   "source": [
    "for word,cnt in  c.most_common(100):\n",
    "    if len(word) >= 2:\n",
    "        print(word, cnt)"
   ]
  },
  {
   "cell_type": "markdown",
   "metadata": {},
   "source": [
    "# n-gram"
   ]
  },
  {
   "cell_type": "code",
   "execution_count": 52,
   "metadata": {},
   "outputs": [
    {
     "data": {
      "text/plain": [
       "'那'"
      ]
     },
     "execution_count": 52,
     "metadata": {},
     "output_type": "execute_result"
    }
   ],
   "source": [
    "sentence='那我們酸民婉君也可以報名嗎'\n",
    "sentence[0]"
   ]
  },
  {
   "cell_type": "code",
   "execution_count": 53,
   "metadata": {},
   "outputs": [
    {
     "data": {
      "text/plain": [
       "'那我'"
      ]
     },
     "execution_count": 53,
     "metadata": {},
     "output_type": "execute_result"
    }
   ],
   "source": [
    "sentence[0:2]"
   ]
  },
  {
   "cell_type": "code",
   "execution_count": 54,
   "metadata": {},
   "outputs": [
    {
     "data": {
      "text/plain": [
       "'我們'"
      ]
     },
     "execution_count": 54,
     "metadata": {},
     "output_type": "execute_result"
    }
   ],
   "source": [
    "sentence[1:3]"
   ]
  },
  {
   "cell_type": "code",
   "execution_count": 57,
   "metadata": {},
   "outputs": [
    {
     "data": {
      "text/plain": [
       "'名'"
      ]
     },
     "execution_count": 57,
     "metadata": {},
     "output_type": "execute_result"
    }
   ],
   "source": [
    "sentence[len(sentence) - 2]"
   ]
  },
  {
   "cell_type": "code",
   "execution_count": 58,
   "metadata": {},
   "outputs": [
    {
     "data": {
      "text/plain": [
       "'名嗎'"
      ]
     },
     "execution_count": 58,
     "metadata": {},
     "output_type": "execute_result"
    }
   ],
   "source": [
    "sentence[(len(sentence) - 2) : len(sentence)]"
   ]
  },
  {
   "cell_type": "code",
   "execution_count": 59,
   "metadata": {},
   "outputs": [
    {
     "name": "stdout",
     "output_type": "stream",
     "text": [
      "那我\n",
      "我們\n",
      "們酸\n",
      "酸民\n",
      "民婉\n",
      "婉君\n",
      "君也\n",
      "也可\n",
      "可以\n",
      "以報\n",
      "報名\n",
      "名嗎\n"
     ]
    }
   ],
   "source": [
    "for i in range(0, len(sentence) - 2 + 1):\n",
    "    print(sentence[i:i + 2])"
   ]
  },
  {
   "cell_type": "code",
   "execution_count": 60,
   "metadata": {},
   "outputs": [
    {
     "data": {
      "text/plain": [
       "'那我們'"
      ]
     },
     "execution_count": 60,
     "metadata": {},
     "output_type": "execute_result"
    }
   ],
   "source": [
    "sentence[0:3]"
   ]
  },
  {
   "cell_type": "code",
   "execution_count": 61,
   "metadata": {},
   "outputs": [
    {
     "data": {
      "text/plain": [
       "'我們酸'"
      ]
     },
     "execution_count": 61,
     "metadata": {},
     "output_type": "execute_result"
    }
   ],
   "source": [
    "sentence[1:4]"
   ]
  },
  {
   "cell_type": "code",
   "execution_count": 62,
   "metadata": {},
   "outputs": [
    {
     "name": "stdout",
     "output_type": "stream",
     "text": [
      "那我們\n",
      "我們酸\n",
      "們酸民\n",
      "酸民婉\n",
      "民婉君\n",
      "婉君也\n",
      "君也可\n",
      "也可以\n",
      "可以報\n",
      "以報名\n",
      "報名嗎\n"
     ]
    }
   ],
   "source": [
    "for i in range(0, len(sentence) - 3 + 1):\n",
    "    print(sentence[i:i + 3])"
   ]
  },
  {
   "cell_type": "code",
   "execution_count": 63,
   "metadata": {},
   "outputs": [],
   "source": [
    "news = '''\n",
    "財金公司的金融資訊跨行系統今日上午出包，影響民眾進行銀行間的跨行交易全數受到衝擊！財金公司表示，今日早上約7點多時，因IBM大型主機系統異常，發生跨行系統異常狀況，導致跨行交易大約有1小時餘全數無法進行。\n",
    "\n",
    "財金公司表示，因今日為假日，所以影響的層面主要為ATM的跨行提款、匯款等，若民眾透過網路銀行進行跨行交易，也同樣受到衝擊，但若是自行交易，如持中信銀提款卡到中信銀ATM提款，則不受到影響。\n",
    "\n",
    "不過財金公司表示，到9點2分時，財金公司的跨行系統已恢復正常，並重新開始與各銀行完成對接，目前已有部分的跨行交易得以進行，預估很快就會100%恢復後，若民眾仍有相關問題，請洽財金公司客服專線02-26301222。\n",
    "\n",
    "財金公司說，目前可初步排除是外部入侵及病毒攻擊的可能性。據金管會最新統計，至今年上半年全台ATM共28771台，光是6月交易次數達73266次，交易額高達9168.99億。\n",
    "\n",
    "財金資訊股份有限公司今日11點45分的時候緊急召開記者會，說明所有ATM交易異常的情況已在9點時候完全恢復正常，所幸只是ATM無法進行交易，並沒有造成任何民眾的財損。\n",
    " \n",
    "今日上午的記者會包括財金資訊股份有限公司總經理林國良、財金資訊股份有限公司副總經理陳昌修以及IBM軟體事業部門總經理許仲言、IBM技術支援部副總陳孝慈等連袂出席。\n",
    " \n",
    "今日上午7點的時候，因為IBM大型主機IMS系統異常，導致跨行系統陸續有異常狀況發生，經財經公司與IBM公司緊急處理後，9點的時候已全數恢復正常運作。\n",
    " \n",
    "林國良表示，因為IBM大型主機連線管制程式IMS發生異常，造成連線訊息中斷，不過跟外界擔心的駭客、資安等問題沒有任何關係，只是跨行程式出現異常，連線發生斷斷續續的問題，連忙與IBM緊急召集相關團隊解決問題，9點時已處理完成，恢復正常運作。\n",
    " \n",
    "IBM軟體事業部門總經理許仲言表示，針對今日上午民眾在ATM跨行轉帳金融交易不便，感到非常的抱歉，這次主要的問題在於交易連線的交易軟體發生問題，當保護機制發現有異常的時候，就會啟動保護機制，經過緊急處理之後，系統很快就恢復了。\n",
    " \n",
    "許仲言表示，已經保留所有交易的軌跡，也會與外面的實驗室一起討論發生的原因。而所謂的異常，包括交易的時間、收集的資料，都有模式存在，因為超過正常的應用區間範圍之內，所以才會啟動保護機制。\n",
    " \n",
    "許仲言表示，這次事件屬於非常輕微的風險異常，未來將會強化預防機制。（王立德、楊喻斐／台北報導）\n",
    "'''"
   ]
  },
  {
   "cell_type": "code",
   "execution_count": 66,
   "metadata": {},
   "outputs": [],
   "source": [
    "ngrams = []\n",
    "for i in range(0, len(news) - 2 + 1):\n",
    "    ngrams.append(news[i:i + 2])"
   ]
  },
  {
   "cell_type": "code",
   "execution_count": 67,
   "metadata": {},
   "outputs": [
    {
     "data": {
      "text/plain": [
       "[('交易', 14),\n",
       " ('公司', 12),\n",
       " ('跨行', 11),\n",
       " ('財金', 10),\n",
       " ('異常', 10),\n",
       " ('。\\n', 10),\n",
       " ('IB', 8),\n",
       " ('BM', 8),\n",
       " ('常，', 8),\n",
       " ('金公', 7)]"
      ]
     },
     "execution_count": 67,
     "metadata": {},
     "output_type": "execute_result"
    }
   ],
   "source": [
    "from collections import Counter\n",
    "c = Counter(ngrams)\n",
    "c.most_common(10)"
   ]
  },
  {
   "cell_type": "code",
   "execution_count": 68,
   "metadata": {},
   "outputs": [],
   "source": [
    "ngrams = []\n",
    "for i in range(0, len(news) - 3 + 1):\n",
    "    ngrams.append(news[i:i + 3])"
   ]
  },
  {
   "cell_type": "code",
   "execution_count": 69,
   "metadata": {},
   "outputs": [
    {
     "data": {
      "text/plain": [
       "[('IBM', 8),\n",
       " ('財金公', 7),\n",
       " ('金公司', 7),\n",
       " ('表示，', 7),\n",
       " ('行交易', 6),\n",
       " ('異常，', 6),\n",
       " ('ATM', 6),\n",
       " ('。\\n ', 6),\n",
       " ('\\n \\n', 6),\n",
       " ('\\n財金', 4)]"
      ]
     },
     "execution_count": 69,
     "metadata": {},
     "output_type": "execute_result"
    }
   ],
   "source": [
    "from collections import Counter\n",
    "c = Counter(ngrams)\n",
    "c.most_common(10)"
   ]
  },
  {
   "cell_type": "code",
   "execution_count": 70,
   "metadata": {},
   "outputs": [
    {
     "data": {
      "text/plain": [
       "'財金公司的金融資訊跨行系統今日上午出包，影響民眾進行銀行間的跨行交易全數受到衝擊！財金公司表示，今日早上約7點多時，因IBM大型主機系統異常，發生跨行系統異常狀況，導致跨行交易大約有1小時餘全數無法進行。'"
      ]
     },
     "execution_count": 70,
     "metadata": {},
     "output_type": "execute_result"
    }
   ],
   "source": [
    "text = '財金公司的金融資訊跨行系統今日上午出包，影響民眾進行銀行間的跨行交易全數受到衝擊！財金公司表示，今日早上約7點多時，因IBM大型主機系統異常，發生跨行系統異常狀況，導致跨行交易大約有1小時餘全數無法進行。'\n",
    "text"
   ]
  },
  {
   "cell_type": "code",
   "execution_count": 73,
   "metadata": {},
   "outputs": [
    {
     "data": {
      "text/plain": [
       "['財金公司的金融資訊跨行系統今日上午出包',\n",
       " '影響民眾進行銀行間的跨行交易全數受到衝擊',\n",
       " '財金公司表示',\n",
       " '今日早上約7點多時',\n",
       " '因IBM大型主機系統異常',\n",
       " '發生跨行系統異常狀況',\n",
       " '導致跨行交易大約有1小時餘全數無法進行',\n",
       " '']"
      ]
     },
     "execution_count": 73,
     "metadata": {},
     "output_type": "execute_result"
    }
   ],
   "source": [
    "import re\n",
    "# | = > or\n",
    "re.split('，|！|。', text)"
   ]
  },
  {
   "cell_type": "code",
   "execution_count": 74,
   "metadata": {},
   "outputs": [
    {
     "data": {
      "text/plain": [
       "'期貨 美核准上市'"
      ]
     },
     "execution_count": 74,
     "metadata": {},
     "output_type": "execute_result"
    }
   ],
   "source": [
    "a = '比特幣期貨 美核准上市'\n",
    "a.replace('比特幣', '')"
   ]
  },
  {
   "cell_type": "code",
   "execution_count": 75,
   "metadata": {},
   "outputs": [
    {
     "data": {
      "text/plain": [
       "' 美核准上市'"
      ]
     },
     "execution_count": 75,
     "metadata": {},
     "output_type": "execute_result"
    }
   ],
   "source": [
    "a.replace('比特幣', '').replace('期貨', '')"
   ]
  },
  {
   "cell_type": "code",
   "execution_count": 78,
   "metadata": {},
   "outputs": [],
   "source": [
    "def removeKey(text, keywords):\n",
    "    ret = text\n",
    "    for word in keywords:\n",
    "        ret = ret.replace(word, '')\n",
    "    return ret"
   ]
  },
  {
   "cell_type": "code",
   "execution_count": 79,
   "metadata": {},
   "outputs": [
    {
     "data": {
      "text/plain": [
       "' 美核准上市'"
      ]
     },
     "execution_count": 79,
     "metadata": {},
     "output_type": "execute_result"
    }
   ],
   "source": [
    "removeKey(a , ['比特幣','期貨'])"
   ]
  },
  {
   "cell_type": "code",
   "execution_count": 88,
   "metadata": {},
   "outputs": [],
   "source": [
    "def ngram(input_sentence, n = 2):\n",
    "    ngrams = []\n",
    "    for i in range(0, len(input_sentence) - n + 1):\n",
    "        ngrams.append(input_sentence[i:i + n])\n",
    "    return ngrams"
   ]
  },
  {
   "cell_type": "code",
   "execution_count": 85,
   "metadata": {},
   "outputs": [],
   "source": [
    "sentenceAry = re.split('，|！|。|、|（|）|\\n|／', news)\n",
    "#sentenceAry"
   ]
  },
  {
   "cell_type": "code",
   "execution_count": 97,
   "metadata": {},
   "outputs": [],
   "source": [
    "keywords = []\n",
    "for n in range(4, 1, -1):\n",
    "    \n",
    "    words = []\n",
    "    for sentence in sentenceAry:\n",
    "        # 移除關鍵字\n",
    "        text   = removeKey(sentence, keywords)\n",
    "        # 產生 ngram\n",
    "        ngrams = ngram(text, n)\n",
    "        # 加到list 之中\n",
    "        words.extend(ngrams)\n",
    "        \n",
    "    # 統計字詞出現數量, 超過閥值的加到keywords 之中\n",
    "    c = Counter(words)\n",
    "    for word, cnt in c.items():\n",
    "        if cnt >= 8:\n",
    "            keywords.append(word)\n"
   ]
  },
  {
   "cell_type": "code",
   "execution_count": 98,
   "metadata": {},
   "outputs": [
    {
     "data": {
      "text/plain": [
       "['IBM', '財金', '公司', '跨行', '交易', '異常']"
      ]
     },
     "execution_count": 98,
     "metadata": {},
     "output_type": "execute_result"
    }
   ],
   "source": [
    "keywords"
   ]
  },
  {
   "cell_type": "markdown",
   "metadata": {},
   "source": [
    "## 文字量化分析"
   ]
  },
  {
   "cell_type": "code",
   "execution_count": 100,
   "metadata": {},
   "outputs": [
    {
     "name": "stdout",
     "output_type": "stream",
     "text": [
      "交易 13\n",
      "跨行 11\n",
      "財金 10\n",
      "異常 10\n",
      "公司 9\n",
      "IBM 8\n",
      "系統 7\n",
      "今日 7\n",
      "表示 7\n",
      "ATM 6\n",
      "問題 6\n",
      "進行 5\n",
      "發生 5\n",
      "正常 5\n",
      "資訊 4\n",
      "上午 4\n",
      "時候 4\n",
      "緊急 4\n",
      "許仲言 4\n",
      "機制 4\n",
      "全數 3\n",
      "受到 3\n",
      "大型 3\n",
      "主機 3\n",
      "股份 3\n",
      "有限公司 3\n",
      "總經理 3\n",
      "軟體 3\n",
      "因為 3\n",
      "處理 3\n",
      "連線 3\n",
      "衝擊 2\n",
      "狀況 2\n",
      "導致 2\n",
      "無法 2\n",
      "所以 2\n",
      "影響 2\n",
      "主要 2\n",
      "提款 2\n",
      "若民眾 2\n",
      "中信 2\n",
      "不過 2\n",
      "完成 2\n",
      "目前 2\n",
      "很快 2\n",
      "相關 2\n",
      "記者 2\n",
      "所有 2\n",
      "只是 2\n",
      "造成 2\n",
      "任何 2\n",
      "民眾 2\n",
      "包括 2\n",
      "林國良 2\n",
      "事業 2\n",
      "部門 2\n",
      "點的 2\n",
      "IMS 2\n",
      "運作 2\n",
      "程式 2\n",
      "非常 2\n",
      "這次 2\n",
      "啟動 2\n",
      "保護 2\n",
      "金融 1\n",
      "出包 1\n",
      "影響民眾 1\n",
      "銀行間 1\n",
      "早上 1\n",
      "點多時 1\n",
      "大約 1\n"
     ]
    }
   ],
   "source": [
    "import jieba\n",
    "from collections import Counter\n",
    "c = Counter(list(jieba.cut(news)))\n",
    "for k,v in c.most_common(100):\n",
    "    if len(k) >= 2:\n",
    "        print(k, v)"
   ]
  },
  {
   "cell_type": "markdown",
   "metadata": {},
   "source": [
    "## TF-IDF"
   ]
  },
  {
   "cell_type": "code",
   "execution_count": 103,
   "metadata": {},
   "outputs": [
    {
     "data": {
      "text/plain": [
       "0.0"
      ]
     },
     "execution_count": 103,
     "metadata": {},
     "output_type": "execute_result"
    }
   ],
   "source": [
    "import math\n",
    "a, abb, abc = ['a'], ['a','b', 'b'], ['a', 'b', 'c']\n",
    "\n",
    "#tfidf('a', a, D)\n",
    "tf  = 1/1\n",
    "idf = math.log(3/3)\n",
    "tf * idf"
   ]
  },
  {
   "cell_type": "code",
   "execution_count": 105,
   "metadata": {},
   "outputs": [
    {
     "data": {
      "text/plain": [
       "0.0"
      ]
     },
     "execution_count": 105,
     "metadata": {},
     "output_type": "execute_result"
    }
   ],
   "source": [
    "#tfidf('a', abb, D)\n",
    "tf = 1/3\n",
    "idf = math.log(3/3) \n",
    "tf * idf "
   ]
  },
  {
   "cell_type": "code",
   "execution_count": 106,
   "metadata": {},
   "outputs": [
    {
     "data": {
      "text/plain": [
       "0.0"
      ]
     },
     "execution_count": 106,
     "metadata": {},
     "output_type": "execute_result"
    }
   ],
   "source": [
    "#tfidf('a', abc, D)\n",
    "tf = 1/3\n",
    "idf = math.log(3/3) \n",
    "tf * idf "
   ]
  },
  {
   "cell_type": "code",
   "execution_count": 107,
   "metadata": {},
   "outputs": [
    {
     "data": {
      "text/plain": [
       "0.27031007207210955"
      ]
     },
     "execution_count": 107,
     "metadata": {},
     "output_type": "execute_result"
    }
   ],
   "source": [
    "#tfidf('b', abb, D)\n",
    "tf = 2/3\n",
    "idf = math.log(3/2)\n",
    "tf * idf "
   ]
  },
  {
   "cell_type": "code",
   "execution_count": 108,
   "metadata": {},
   "outputs": [
    {
     "data": {
      "text/plain": [
       "0.13515503603605478"
      ]
     },
     "execution_count": 108,
     "metadata": {},
     "output_type": "execute_result"
    }
   ],
   "source": [
    "#tfidf('b', abc, D)\n",
    "tf = 1/3\n",
    "idf = math.log(3/2)\n",
    "tf * idf "
   ]
  },
  {
   "cell_type": "code",
   "execution_count": 110,
   "metadata": {},
   "outputs": [
    {
     "data": {
      "text/plain": [
       "0.3662040962227032"
      ]
     },
     "execution_count": 110,
     "metadata": {},
     "output_type": "execute_result"
    }
   ],
   "source": [
    "#tfidf('c', abc, D)\n",
    "tf = 1/3\n",
    "idf = math.log(3/1)\n",
    "tf * idf"
   ]
  },
  {
   "cell_type": "code",
   "execution_count": 123,
   "metadata": {},
   "outputs": [],
   "source": [
    "D = [a, abb, abc]\n",
    "def tfidf(t, d, D):\n",
    "    tf  = d.count(t) / len(d)\n",
    "    idf = math.log(len(D)/ len([doc for doc in D if t in doc]) )\n",
    "    return tf * idf\n"
   ]
  },
  {
   "cell_type": "code",
   "execution_count": 124,
   "metadata": {},
   "outputs": [
    {
     "data": {
      "text/plain": [
       "0.3662040962227032"
      ]
     },
     "execution_count": 124,
     "metadata": {},
     "output_type": "execute_result"
    }
   ],
   "source": [
    "tfidf('c', abc, D)"
   ]
  },
  {
   "cell_type": "code",
   "execution_count": 125,
   "metadata": {},
   "outputs": [
    {
     "data": {
      "text/plain": [
       "2"
      ]
     },
     "execution_count": 125,
     "metadata": {},
     "output_type": "execute_result"
    }
   ],
   "source": [
    "D = [a,abb,abc]\n",
    "t = 'a'\n",
    "#method 1\n",
    "ary = []\n",
    "for doc in D:\n",
    "    if t in doc:\n",
    "        ary.append(doc)\n",
    "len(ary)\n",
    "\n",
    "#method 2\n",
    "t = 'b'\n",
    "len([doc for doc in D if t in doc])"
   ]
  },
  {
   "cell_type": "code",
   "execution_count": 128,
   "metadata": {},
   "outputs": [
    {
     "data": {
      "text/plain": [
       "['財金', '異常', '跨行', 'IBM', '系統', 'ATM', '問題', '交易', '進行', '發生']"
      ]
     },
     "execution_count": 128,
     "metadata": {},
     "output_type": "execute_result"
    }
   ],
   "source": [
    "import jieba.analyse\n",
    "tags = jieba.analyse.extract_tags(news, 10)\n",
    "tags"
   ]
  },
  {
   "cell_type": "markdown",
   "metadata": {},
   "source": [
    "## 詞頻矩陣"
   ]
  },
  {
   "cell_type": "code",
   "execution_count": 137,
   "metadata": {},
   "outputs": [],
   "source": [
    "import jieba\n",
    "jieba.load_userdict('userdict.txt')\n",
    "\n",
    "ary = [\n",
    "    '【更新】柯P:洪智坤洩漏公文案還沒看到公文 今處理',\n",
    "    '留洪智坤 柯:殘障求職不易', \n",
    "    '人事處議處洪智坤 柯P:不清楚議處結果'\n",
    "]\n",
    "corpus = [] \n",
    "for title in ary:\n",
    "    #print(' '.join(jieba.cut(title)) )\n",
    "    corpus.append(' '.join(jieba.cut(title)))"
   ]
  },
  {
   "cell_type": "code",
   "execution_count": 138,
   "metadata": {},
   "outputs": [],
   "source": [
    "from sklearn.feature_extraction.text import CountVectorizer\n",
    "vectorizer = CountVectorizer()\n",
    "X = vectorizer.fit_transform(corpus)"
   ]
  },
  {
   "cell_type": "code",
   "execution_count": 139,
   "metadata": {},
   "outputs": [
    {
     "name": "stdout",
     "output_type": "stream",
     "text": [
      "['不易', '人事處', '今處理', '公文', '更新', '柯p', '案還', '殘障', '求職', '洩漏', '洪智坤', '清楚', '看到', '結果', '議處']\n"
     ]
    },
    {
     "data": {
      "text/plain": [
       "array([[0, 0, 1, 2, 1, 1, 1, 0, 0, 1, 1, 0, 1, 0, 0],\n",
       "       [1, 0, 0, 0, 0, 0, 0, 1, 1, 0, 1, 0, 0, 0, 0],\n",
       "       [0, 1, 0, 0, 0, 1, 0, 0, 0, 0, 1, 1, 0, 1, 2]], dtype=int64)"
      ]
     },
     "execution_count": 139,
     "metadata": {},
     "output_type": "execute_result"
    }
   ],
   "source": [
    "print(vectorizer.get_feature_names())\n",
    "X.toarray()"
   ]
  },
  {
   "cell_type": "code",
   "execution_count": 151,
   "metadata": {},
   "outputs": [
    {
     "data": {
      "text/plain": [
       "{'柯P': '柯文哲', '柯p': '柯文哲', '柯文哲': '柯文哲'}"
      ]
     },
     "execution_count": 151,
     "metadata": {},
     "output_type": "execute_result"
    }
   ],
   "source": [
    "synonyms = [e for e in  open('synonyms.txt')]\n",
    "synonym_dic = {}\n",
    "for s in synonyms:\n",
    "    fields = s.split('/')\n",
    "    for f in fields:\n",
    "        synonym_dic[f] = fields[0]\n",
    "synonym_dic"
   ]
  },
  {
   "cell_type": "code",
   "execution_count": 152,
   "metadata": {},
   "outputs": [],
   "source": [
    "import jieba\n",
    "jieba.load_userdict('userdict.txt')\n",
    "\n",
    "ary = [\n",
    "    '【更新】柯P:洪智坤洩漏公文案還沒看到公文 今處理',\n",
    "    '留洪智坤 柯文哲:殘障求職不易', \n",
    "    '人事處議處洪智坤 柯P:不清楚議處結果'\n",
    "]\n",
    "\n",
    "\n",
    "\n",
    "corpus = [] \n",
    "for title in ary:\n",
    "    #print(' '.join(jieba.cut(title)) )\n",
    "    corpus.append(' '.join([synonym_dic.get(w, w) for w in jieba.cut(title)]))"
   ]
  },
  {
   "cell_type": "code",
   "execution_count": 153,
   "metadata": {},
   "outputs": [],
   "source": [
    "from sklearn.feature_extraction.text import CountVectorizer\n",
    "vectorizer = CountVectorizer()\n",
    "X = vectorizer.fit_transform(corpus)"
   ]
  },
  {
   "cell_type": "code",
   "execution_count": 154,
   "metadata": {},
   "outputs": [
    {
     "name": "stdout",
     "output_type": "stream",
     "text": [
      "['不易', '人事處', '今處理', '公文', '更新', '柯文哲', '案還', '殘障', '求職', '洩漏', '洪智坤', '清楚', '看到', '結果', '議處']\n"
     ]
    },
    {
     "data": {
      "text/plain": [
       "array([[0, 0, 1, 2, 1, 1, 1, 0, 0, 1, 1, 0, 1, 0, 0],\n",
       "       [1, 0, 0, 0, 0, 1, 0, 1, 1, 0, 1, 0, 0, 0, 0],\n",
       "       [0, 1, 0, 0, 0, 1, 0, 0, 0, 0, 1, 1, 0, 1, 2]], dtype=int64)"
      ]
     },
     "execution_count": 154,
     "metadata": {},
     "output_type": "execute_result"
    }
   ],
   "source": [
    "print(vectorizer.get_feature_names())\n",
    "X.toarray()"
   ]
  },
  {
   "cell_type": "code",
   "execution_count": 155,
   "metadata": {},
   "outputs": [],
   "source": [
    "from sklearn.feature_extraction.text import TfidfVectorizer\n",
    "vectorizer = TfidfVectorizer()\n",
    "X = vectorizer.fit_transform(corpus)"
   ]
  },
  {
   "cell_type": "code",
   "execution_count": 156,
   "metadata": {},
   "outputs": [
    {
     "name": "stdout",
     "output_type": "stream",
     "text": [
      "['不易', '人事處', '今處理', '公文', '更新', '柯文哲', '案還', '殘障', '求職', '洩漏', '洪智坤', '清楚', '看到', '結果', '議處']\n"
     ]
    },
    {
     "data": {
      "text/plain": [
       "array([[0.        , 0.        , 0.32111947, 0.64223894, 0.32111947,\n",
       "        0.18965833, 0.32111947, 0.        , 0.        , 0.32111947,\n",
       "        0.18965833, 0.        , 0.32111947, 0.        , 0.        ],\n",
       "       [0.52004008, 0.        , 0.        , 0.        , 0.        ,\n",
       "        0.30714405, 0.        , 0.52004008, 0.52004008, 0.        ,\n",
       "        0.30714405, 0.        , 0.        , 0.        , 0.        ],\n",
       "       [0.        , 0.36042988, 0.        , 0.        , 0.        ,\n",
       "        0.21287569, 0.        , 0.        , 0.        , 0.        ,\n",
       "        0.21287569, 0.36042988, 0.        , 0.36042988, 0.72085976]])"
      ]
     },
     "execution_count": 156,
     "metadata": {},
     "output_type": "execute_result"
    }
   ],
   "source": [
    "print(vectorizer.get_feature_names())\n",
    "X.toarray()"
   ]
  },
  {
   "cell_type": "markdown",
   "metadata": {},
   "source": [
    "## 文章距離計算"
   ]
  },
  {
   "cell_type": "code",
   "execution_count": null,
   "metadata": {},
   "outputs": [],
   "source": [
    "# 柯文哲因為大巨蛋案槓上趙藤雄\n",
    "# 遠雄集團創辦人趙藤雄涉4大弊案，昨天被起訴。台北市長柯文哲今天說，做生意有賺就好，不要太貪，當年大巨蛋若只有蓋3棟，有足夠空間，今天早就開幕了"
   ]
  },
  {
   "cell_type": "code",
   "execution_count": null,
   "metadata": {},
   "outputs": [],
   "source": [
    "# 柯文哲 因為 大巨蛋 案 槓上 趙藤雄   X1  X2  X3 ....  X100\n",
    "#   1   1      1   1  1    1      0   0   0 ....    0\n",
    "#   1   1      1   1  0    1      1   1   1 ....    1\n"
   ]
  },
  {
   "cell_type": "code",
   "execution_count": 157,
   "metadata": {},
   "outputs": [],
   "source": [
    "import jieba\n",
    "jieba.load_userdict('userdict.txt')\n",
    "\n",
    "ary = [\n",
    "    '【更新】柯P:洪智坤洩漏公文案還沒看到公文 今處理',\n",
    "    '留洪智坤 柯:殘障求職不易', \n",
    "    '人事處議處洪智坤 柯P:不清楚議處結果'\n",
    "]\n",
    "corpus = [] \n",
    "for title in ary:\n",
    "    corpus.append(' '.join(jieba.cut(title)))"
   ]
  },
  {
   "cell_type": "code",
   "execution_count": 158,
   "metadata": {},
   "outputs": [],
   "source": [
    "from sklearn.feature_extraction.text import CountVectorizer\n",
    "vectorizer = CountVectorizer()\n",
    "X = vectorizer.fit_transform(corpus)"
   ]
  },
  {
   "cell_type": "code",
   "execution_count": 159,
   "metadata": {},
   "outputs": [
    {
     "data": {
      "text/plain": [
       "array([[0, 0, 1, 2, 1, 1, 1, 0, 0, 1, 1, 0, 1, 0, 0],\n",
       "       [1, 0, 0, 0, 0, 0, 0, 1, 1, 0, 1, 0, 0, 0, 0],\n",
       "       [0, 1, 0, 0, 0, 1, 0, 0, 0, 0, 1, 1, 0, 1, 2]], dtype=int64)"
      ]
     },
     "execution_count": 159,
     "metadata": {},
     "output_type": "execute_result"
    }
   ],
   "source": [
    "X.toarray()"
   ]
  },
  {
   "cell_type": "code",
   "execution_count": 161,
   "metadata": {},
   "outputs": [
    {
     "data": {
      "text/plain": [
       "array([[1.        , 0.15075567, 0.20100756],\n",
       "       [0.15075567, 1.        , 0.16666667],\n",
       "       [0.20100756, 0.16666667, 1.        ]])"
      ]
     },
     "execution_count": 161,
     "metadata": {},
     "output_type": "execute_result"
    }
   ],
   "source": [
    "from sklearn.metrics.pairwise import cosine_similarity\n",
    "cs = cosine_similarity(X)\n",
    "cs"
   ]
  },
  {
   "cell_type": "code",
   "execution_count": 168,
   "metadata": {},
   "outputs": [
    {
     "data": {
      "text/plain": [
       "array([0, 2, 1])"
      ]
     },
     "execution_count": 168,
     "metadata": {},
     "output_type": "execute_result"
    }
   ],
   "source": [
    "cs[0].argsort()[::-1]"
   ]
  },
  {
   "cell_type": "code",
   "execution_count": 167,
   "metadata": {},
   "outputs": [
    {
     "data": {
      "text/plain": [
       "array([1, 0, 2])"
      ]
     },
     "execution_count": 167,
     "metadata": {},
     "output_type": "execute_result"
    }
   ],
   "source": [
    "import numpy as np\n",
    "a = np.array([50,40,60])\n",
    "a.argsort()"
   ]
  },
  {
   "cell_type": "code",
   "execution_count": 169,
   "metadata": {},
   "outputs": [
    {
     "data": {
      "text/plain": [
       "array([[0.        , 0.84924433, 0.79899244],\n",
       "       [0.84924433, 0.        , 0.83333333],\n",
       "       [0.79899244, 0.83333333, 0.        ]])"
      ]
     },
     "execution_count": 169,
     "metadata": {},
     "output_type": "execute_result"
    }
   ],
   "source": [
    "from sklearn.metrics.pairwise import cosine_distances\n",
    "cs = cosine_distances(X)\n",
    "cs"
   ]
  },
  {
   "cell_type": "code",
   "execution_count": 171,
   "metadata": {},
   "outputs": [
    {
     "name": "stdout",
     "output_type": "stream",
     "text": [
      "['不易', '人事處', '今處理', '公文', '更新', '柯p', '案還', '殘障', '求職', '洩漏', '洪智坤', '清楚', '看到', '結果', '議處']\n"
     ]
    }
   ],
   "source": [
    "print(vectorizer.get_feature_names())"
   ]
  },
  {
   "cell_type": "code",
   "execution_count": 175,
   "metadata": {},
   "outputs": [
    {
     "data": {
      "text/plain": [
       "array([ 5, 10, 14, 13, 12, 11,  9,  6,  4,  3,  2,  1,  8,  7,  0])"
      ]
     },
     "execution_count": 175,
     "metadata": {},
     "output_type": "execute_result"
    }
   ],
   "source": [
    "from sklearn.metrics.pairwise import cosine_similarity\n",
    "cs = cosine_similarity(X.T)\n",
    "cs[5].argsort()[::-1]"
   ]
  },
  {
   "cell_type": "code",
   "execution_count": null,
   "metadata": {},
   "outputs": [],
   "source": []
  }
 ],
 "metadata": {
  "kernelspec": {
   "display_name": "Python 3",
   "language": "python",
   "name": "python3"
  },
  "language_info": {
   "codemirror_mode": {
    "name": "ipython",
    "version": 3
   },
   "file_extension": ".py",
   "mimetype": "text/x-python",
   "name": "python",
   "nbconvert_exporter": "python",
   "pygments_lexer": "ipython3",
   "version": "3.6.2"
  }
 },
 "nbformat": 4,
 "nbformat_minor": 2
}
